{
  "nbformat": 4,
  "nbformat_minor": 0,
  "metadata": {
    "colab": {
      "name": "PredictionOfStudentScore.ipynb",
      "provenance": [],
      "toc_visible": true
    },
    "kernelspec": {
      "display_name": "Python 3",
      "name": "python3"
    },
    "language_info": {
      "name": "python"
    }
  },
  "cells": [
    {
      "cell_type": "code",
      "metadata": {
        "colab": {
          "base_uri": "https://localhost:8080/"
        },
        "id": "68SqxX6yiEQS",
        "outputId": "026747b9-2f79-4541-9ef0-6988fc547d8b"
      },
      "source": [
        "import pandas as pd\n",
        "import matplotlib.pyplot as plt\n",
        "import math\n",
        "\n",
        "df = pd.read_excel(r'/content/SUBJECTS1.xlsx', index_col='Code')\n",
        "subjects = df.iloc[:,[9,10]]\n",
        "print(subjects)\n",
        "dframe = pd.DataFrame(columns=['TotalScore','Year'])\n",
        "print(\"Enter the number of years of data\")\n",
        "variable = int(input())\n",
        "for i in range(0,variable):\n",
        "    print(\"Enter Year\")\n",
        "    year = int(input())\n",
        "    print(\"Enter your Subjects\")\n",
        "    print(\"Enter number of subjects\")\n",
        "    n = 3#int(input())\n",
        "    sub = []\n",
        "    marks = []\n",
        "    for i in range (0,n):\n",
        "        print(\"Enter Subject Code for Subject \"+str(i+1))\n",
        "        inp = input()\n",
        "        inp1 = subjects.loc[inp]['Subject']\n",
        "        sub.append(inp1)\n",
        "        print(\"Enter Marks in \"+inp1)\n",
        "        inp2 = int(input())\n",
        "        marks.append(inp2)    \n",
        "        creditsub = subjects.loc[inp]['Credit(1-5)'] \n",
        "        sub.append(str(creditsub))\n",
        "        marks.append(inp2*creditsub)\n",
        "    factors = ['Aptitude', 'Retention', 'CriticalThinking','Attendance','AssignmentSubmission']\n",
        "    facscore = []\n",
        "    for var in factors:\n",
        "      print(\"Enter marks(out of 10) in \" + var)\n",
        "      facscore.append(int(input()))\n",
        "    student = pd.DataFrame(columns=factors+sub)\n",
        "    student.loc[len(student.index)] = facscore+marks\n",
        "    #formula for calculating score in studies = sum of MarksScored*Credit )/Total number of credits\n",
        "    # 50% - Studies\n",
        "    # 50% - Other Factors\n",
        "    scoresum = sum(marks[1::2])\n",
        "    totalcredits = 0\n",
        "    for k in sub[1::2]:\n",
        "        totalcredits = totalcredits + int(k)\n",
        "    SUBJECTSCORE = scoresum/totalcredits\n",
        "    student['SubjectScore'] = SUBJECTSCORE\n",
        "    FACTORSCORE = sum(facscore)\n",
        "    student['FactorScore'] = FACTORSCORE\n",
        "    TOTALSCORE = FACTORSCORE + (SUBJECTSCORE/2)\n",
        "    student['TotalScore'] = TOTALSCORE\n",
        "    student['Year'] = year\n",
        "    print(student)\n",
        "    TSandY = []\n",
        "    TSandY.append(TOTALSCORE)\n",
        "    TSandY.append(int(year))\n",
        "    dframe.loc[len(dframe.index)] = TSandY"
      ],
      "execution_count": null,
      "outputs": [
        {
          "output_type": "stream",
          "text": [
            "                                Subject  Credit(1-5)\n",
            "Code                                                \n",
            "US1101                          Drawing            1\n",
            "US1102                         Painting            1\n",
            "US1103                        Sculpture            1\n",
            "US1104                            Music            1\n",
            "US1105                            Drama            1\n",
            "...                                 ...          ...\n",
            "SNT3108                        Wildlife            3\n",
            "SNT3109                       Fisheries            3\n",
            "SNT3110  Fishery science and technology            3\n",
            "SNT3201             Veterinary medicine            4\n",
            "SNT3202            Veterinary assisting            4\n",
            "\n",
            "[175 rows x 2 columns]\n",
            "Enter the number of years of data\n",
            "3\n",
            "Enter Year\n",
            "2018\n",
            "Enter your Subjects\n",
            "Enter number of subjects\n",
            "Enter Subject Code for Subject 1\n",
            "US2204\n",
            "Enter Marks in Archival sciences\n",
            "67\n",
            "Enter Subject Code for Subject 2\n",
            "US1212\n",
            "Enter Marks in Ethics.\n",
            "78\n",
            "Enter Subject Code for Subject 3\n",
            "ST1301\n",
            "Enter Marks in Food and drink processing\n",
            "78\n",
            "Enter marks(out of 10) in Aptitude\n",
            "8\n",
            "Enter marks(out of 10) in Retention\n",
            "9\n",
            "Enter marks(out of 10) in CriticalThinking\n",
            "7\n",
            "Enter marks(out of 10) in Attendance\n",
            "10\n",
            "Enter marks(out of 10) in AssignmentSubmission\n",
            "9\n",
            "  Aptitude Retention CriticalThinking  ... FactorScore TotalScore  Year\n",
            "0        8         9                7  ...          43  80.777778  2018\n",
            "\n",
            "[1 rows x 15 columns]\n",
            "Enter Year\n",
            "2019\n",
            "Enter your Subjects\n",
            "Enter number of subjects\n",
            "Enter Subject Code for Subject 1\n",
            "ST1406\n",
            "Enter Marks in Building\n",
            "82\n",
            "Enter Subject Code for Subject 2\n",
            "ST1408\n",
            "Enter Marks in Civil engineering\n",
            "65\n",
            "Enter Subject Code for Subject 3\n",
            "SNT1206\n",
            "Enter Marks in Mineralogy\n",
            "77\n",
            "Enter marks(out of 10) in Aptitude\n",
            "10\n",
            "Enter marks(out of 10) in Retention\n",
            "8\n",
            "Enter marks(out of 10) in CriticalThinking\n",
            "9\n",
            "Enter marks(out of 10) in Attendance\n",
            "7\n",
            "Enter marks(out of 10) in AssignmentSubmission\n",
            "8\n",
            "  Aptitude Retention CriticalThinking  ... FactorScore TotalScore  Year\n",
            "0       10         8                9  ...          42  79.423077  2019\n",
            "\n",
            "[1 rows x 15 columns]\n",
            "Enter Year\n",
            "2020\n",
            "Enter your Subjects\n",
            "Enter number of subjects\n",
            "Enter Subject Code for Subject 1\n",
            "SNT2102\n",
            "Enter Marks in Epidemiology\n",
            "88\n",
            "Enter Subject Code for Subject 2\n",
            "SNT2111\n",
            "Enter Marks in Surgery\n",
            "79\n",
            "Enter Subject Code for Subject 3\n",
            "SNT1205\n",
            "Enter Marks in Geophysics\n",
            "81\n",
            "Enter marks(out of 10) in Aptitude\n",
            "5\n",
            "Enter marks(out of 10) in Retention\n",
            "7\n",
            "Enter marks(out of 10) in CriticalThinking\n",
            "8\n",
            "Enter marks(out of 10) in Attendance\n",
            "10\n",
            "Enter marks(out of 10) in AssignmentSubmission\n",
            "7\n",
            "  Aptitude Retention CriticalThinking  ... FactorScore TotalScore  Year\n",
            "0        5         7                8  ...          37  78.269231  2020\n",
            "\n",
            "[1 rows x 15 columns]\n"
          ],
          "name": "stdout"
        }
      ]
    },
    {
      "cell_type": "code",
      "metadata": {
        "colab": {
          "base_uri": "https://localhost:8080/"
        },
        "id": "XwOHq9I5ctYM",
        "outputId": "dcb00a29-b677-4e08-dbcc-89cb75296d26"
      },
      "source": [
        "print(dframe)\n",
        "x = dframe.iloc[:, 0:1].values\n",
        "y = dframe.iloc[:, 1:].values\n",
        "\n",
        "from sklearn.ensemble import RandomForestRegressor\n",
        "from sklearn.model_selection import train_test_split\n",
        "from sklearn import linear_model\n",
        "from sklearn.linear_model import LinearRegression\n",
        "\n",
        " # create regressor object\n",
        "regressor = RandomForestRegressor(n_estimators = 100, random_state = 0)\n",
        " # fitting the regressor\n",
        "regressor.fit(dframe[['Year']],dframe.TotalScore)\n",
        "Y_pred = regressor.predict([[2021]])\n",
        "print(\"The Predicted value in 2021 is :\")\n",
        "print(Y_pred)"
      ],
      "execution_count": null,
      "outputs": [
        {
          "output_type": "stream",
          "text": [
            "   TotalScore    Year\n",
            "0   80.777778  2018.0\n",
            "1   79.423077  2019.0\n",
            "2   78.269231  2020.0\n",
            "The Predicted value in 2021 is :\n",
            "[78.71773504]\n"
          ],
          "name": "stdout"
        }
      ]
    },
    {
      "cell_type": "code",
      "metadata": {
        "colab": {
          "base_uri": "https://localhost:8080/",
          "height": 321
        },
        "id": "KA0J5MlNgCuC",
        "outputId": "37ca55c7-d985-4f2f-bb53-21f23a10cdec"
      },
      "source": [
        "dframe.plot.bar(x='Year', y='TotalScore')"
      ],
      "execution_count": null,
      "outputs": [
        {
          "output_type": "execute_result",
          "data": {
            "text/plain": [
              "<matplotlib.axes._subplots.AxesSubplot at 0x7fb8ab7c47d0>"
            ]
          },
          "metadata": {
            "tags": []
          },
          "execution_count": 8
        },
        {
          "output_type": "display_data",
          "data": {
            "image/png": "[encoded data removed]",
            "text/plain": [
              "<Figure size 432x288 with 1 Axes>"
            ]
          },
          "metadata": {
            "tags": [],
            "needs_background": "light"
          }
        }
      ]
    },
    {
      "cell_type": "markdown",
      "metadata": {
        "id": "wqL-s-JOUZDA"
      },
      "source": [
        "# New Section"
      ]
    }
  ]
}